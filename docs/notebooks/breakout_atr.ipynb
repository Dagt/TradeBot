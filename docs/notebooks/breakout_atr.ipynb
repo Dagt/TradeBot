{
 "cells": [
  {
   "cell_type": "markdown",
   "metadata": {},
   "source": [
    "# Backtest de Breakout ATR\n",
    "Ejemplo básico de ejecución en notebook."
   ]
  },
  {
   "cell_type": "code",
   "execution_count": null,
   "metadata": {},
   "outputs": [],
   "source": [
    "from tradingbot.backtest.event_engine import run_backtest\n",
    "result = run_backtest(\n",
    "    csv_path=\"data/examples/btcusdt_1m.csv\",\n",
    "    symbol=\"BTC/USDT\",\n",
    "    strategy_name=\"breakout_atr\",\n",
    ")\n",
    "result"
   ]
  }
 ],
 "metadata": {
  "kernelspec": {
   "display_name": "Python 3",
   "language": "python",
   "name": "python3"
  },
  "language_info": {
   "name": "python",
   "version": "3.11"
  }
 },
 "nbformat": 4,
 "nbformat_minor": 5
}
